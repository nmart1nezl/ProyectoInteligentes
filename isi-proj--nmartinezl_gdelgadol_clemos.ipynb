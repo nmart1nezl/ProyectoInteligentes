{
  "nbformat": 4,
  "nbformat_minor": 0,
  "metadata": {
    "colab": {
      "provenance": []
    },
    "kernelspec": {
      "name": "python3",
      "display_name": "Python 3"
    },
    "language_info": {
      "name": "python"
    }
  },
  "cells": [
    {
      "cell_type": "markdown",
      "source": [
        "# **Proyecto Final - Introducción a los Sistemas Inteligentes**\n",
        "\n",
        "* Nicolás Martinez López\n",
        "* Gabriel Santiago Delgado Lozano\n",
        "* Cesar Arthuro Lemos Silva"
      ],
      "metadata": {
        "id": "RwEYdrSD7kbv"
      }
    },
    {
      "cell_type": "markdown",
      "source": [
        "# **Descripción del Problema**"
      ],
      "metadata": {
        "id": "BzpaQSpb71kW"
      }
    },
    {
      "cell_type": "markdown",
      "source": [
        "## *Términos Técnicos*"
      ],
      "metadata": {
        "id": "mZUcdJyZ8h4u"
      }
    },
    {
      "cell_type": "markdown",
      "source": [
        "**Cáncer de Mama**"
      ],
      "metadata": {
        "id": "dy2KIq65HV1z"
      }
    },
    {
      "cell_type": "markdown",
      "source": [
        "**Tratamiento Neoadjuvante**\n"
      ],
      "metadata": {
        "id": "QcliQFd4RI6c"
      }
    },
    {
      "cell_type": "markdown",
      "source": [
        "**Patológico**\n"
      ],
      "metadata": {
        "id": "Xvs83q00RUi9"
      }
    },
    {
      "cell_type": "markdown",
      "source": [
        "**Celularidad**\n"
      ],
      "metadata": {
        "id": "PjVDzzvmRpuD"
      }
    },
    {
      "cell_type": "markdown",
      "source": [
        "**Imágenes de Diapositivas Completas - WSI - Whole Slide Images**"
      ],
      "metadata": {
        "id": "W72Khn3BHDYp"
      }
    },
    {
      "cell_type": "markdown",
      "source": [
        "## *Relación del Machine Learning Con el Problema*"
      ],
      "metadata": {
        "id": "6ESavMcZ048W"
      }
    },
    {
      "cell_type": "markdown",
      "source": [],
      "metadata": {
        "id": "C6QbERSw03km"
      }
    },
    {
      "cell_type": "code",
      "execution_count": null,
      "metadata": {
        "id": "jg8BNrsq6ABh"
      },
      "outputs": [],
      "source": []
    },
    {
      "cell_type": "markdown",
      "source": [
        "# **Importación de Datos**"
      ],
      "metadata": {
        "id": "vD9kMCST76Cd"
      }
    },
    {
      "cell_type": "code",
      "source": [],
      "metadata": {
        "id": "3ZvzNNNO8Kh9"
      },
      "execution_count": null,
      "outputs": []
    },
    {
      "cell_type": "markdown",
      "source": [
        "# **Exploración de Datos**"
      ],
      "metadata": {
        "id": "7mEwAeBO7_6l"
      }
    },
    {
      "cell_type": "code",
      "source": [],
      "metadata": {
        "id": "Zlp-zhq08LBt"
      },
      "execution_count": null,
      "outputs": []
    },
    {
      "cell_type": "markdown",
      "source": [
        "# **Modelos y Exploración de Hiper-Parámetros**"
      ],
      "metadata": {
        "id": "oppGXPXP8FZN"
      }
    },
    {
      "cell_type": "code",
      "source": [],
      "metadata": {
        "id": "p-Wv4ICc8XVm"
      },
      "execution_count": null,
      "outputs": []
    },
    {
      "cell_type": "markdown",
      "source": [
        "# **Evaluación del desempeño sistemática del modelo final seleccionado**"
      ],
      "metadata": {
        "id": "gRt-n1dp8J1G"
      }
    },
    {
      "cell_type": "code",
      "source": [],
      "metadata": {
        "id": "VwArTAhg8S81"
      },
      "execution_count": null,
      "outputs": []
    },
    {
      "cell_type": "markdown",
      "source": [
        "# **Conclusiones y Resultados**"
      ],
      "metadata": {
        "id": "Nfqy9c4S8SUV"
      }
    },
    {
      "cell_type": "code",
      "source": [],
      "metadata": {
        "id": "gQbzgGSW8WX9"
      },
      "execution_count": null,
      "outputs": []
    },
    {
      "cell_type": "markdown",
      "source": [
        "# **Generación del Archivo de Envío**"
      ],
      "metadata": {
        "id": "j3idxKoZ8c0N"
      }
    },
    {
      "cell_type": "code",
      "source": [],
      "metadata": {
        "id": "TqhAtTxj8foN"
      },
      "execution_count": null,
      "outputs": []
    }
  ]
}